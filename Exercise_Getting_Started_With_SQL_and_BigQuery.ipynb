{
  "metadata": {
    "kernelspec": {
      "display_name": "Python 3",
      "language": "python",
      "name": "python3"
    },
    "language_info": {
      "name": "python",
      "version": "3.10.13",
      "mimetype": "text/x-python",
      "codemirror_mode": {
        "name": "ipython",
        "version": 3
      },
      "pygments_lexer": "ipython3",
      "nbconvert_exporter": "python",
      "file_extension": ".py"
    },
    "kaggle": {
      "accelerator": "none",
      "dataSources": [
        {
          "sourceId": 28376,
          "sourceType": "datasetVersion",
          "datasetId": 22090
        },
        {
          "sourceId": 285982,
          "sourceType": "datasetVersion",
          "datasetId": 6057
        }
      ],
      "isInternetEnabled": false,
      "language": "python",
      "sourceType": "notebook",
      "isGpuEnabled": false
    },
    "colab": {
      "name": "Exercise: Getting Started With SQL and BigQuery",
      "provenance": []
    }
  },
  "nbformat_minor": 0,
  "nbformat": 4,
  "cells": [
    {
      "cell_type": "markdown",
      "source": [
        "**This notebook is an exercise in the [SQL](https://www.kaggle.com/learn/intro-to-sql) course.  You can reference the tutorial at [this link](https://www.kaggle.com/dansbecker/getting-started-with-sql-and-bigquery).**\n",
        "\n",
        "---\n"
      ],
      "metadata": {
        "id": "Fkkdwr5WYfck"
      }
    },
    {
      "cell_type": "markdown",
      "source": [
        "# Introduction\n",
        "\n",
        "The first test of your new data exploration skills uses data describing crime in the city of Chicago.\n",
        "\n",
        "Before you get started, run the following cell. It sets up the automated feedback system to review your answers."
      ],
      "metadata": {
        "id": "ZFHy3X9XYfcn"
      }
    },
    {
      "cell_type": "code",
      "source": [
        "# Set up feedack system\n",
        "from learntools.core import binder\n",
        "binder.bind(globals())\n",
        "from learntools.sql.ex1 import *\n",
        "print(\"Setup Complete\")"
      ],
      "metadata": {
        "execution": {
          "iopub.status.busy": "2024-07-03T14:59:28.072084Z",
          "iopub.execute_input": "2024-07-03T14:59:28.072493Z",
          "iopub.status.idle": "2024-07-03T14:59:35.476425Z",
          "shell.execute_reply.started": "2024-07-03T14:59:28.07246Z",
          "shell.execute_reply": "2024-07-03T14:59:35.475126Z"
        },
        "trusted": true,
        "id": "5hhDkdYWYfco"
      },
      "execution_count": null,
      "outputs": []
    },
    {
      "cell_type": "markdown",
      "source": [
        "Use the next code cell to fetch the dataset."
      ],
      "metadata": {
        "id": "x3jsMtyxYfct"
      }
    },
    {
      "cell_type": "code",
      "source": [
        "from google.cloud import bigquery\n",
        "\n",
        "# Create a \"Client\" object\n",
        "client = bigquery.Client()\n",
        "\n",
        "# Construct a reference to the \"chicago_crime\" dataset\n",
        "dataset_ref = client.dataset(\"chicago_crime\", project=\"bigquery-public-data\")\n",
        "\n",
        "# API request - fetch the dataset\n",
        "dataset = client.get_dataset(dataset_ref)"
      ],
      "metadata": {
        "execution": {
          "iopub.status.busy": "2024-07-03T14:59:59.905731Z",
          "iopub.execute_input": "2024-07-03T14:59:59.907612Z",
          "iopub.status.idle": "2024-07-03T15:00:00.709758Z",
          "shell.execute_reply.started": "2024-07-03T14:59:59.907552Z",
          "shell.execute_reply": "2024-07-03T15:00:00.708191Z"
        },
        "trusted": true,
        "id": "3UAlT4xgYfcu"
      },
      "execution_count": null,
      "outputs": []
    },
    {
      "cell_type": "markdown",
      "source": [
        "# Exercises\n",
        "\n",
        "### 1) Count tables in the dataset\n",
        "\n",
        "How many tables are in the Chicago Crime dataset?"
      ],
      "metadata": {
        "id": "ZeOvsjSsYfcv"
      }
    },
    {
      "cell_type": "code",
      "source": [
        "# Write the code you need here to figure out the answer"
      ],
      "metadata": {
        "id": "UkUyiJWPYfcw"
      },
      "execution_count": null,
      "outputs": []
    },
    {
      "cell_type": "code",
      "source": [
        "dataset_ref = client.dataset(\"chicago_crime\", project='bigquery-public-data')\n"
      ],
      "metadata": {
        "execution": {
          "iopub.status.busy": "2024-07-03T15:08:07.392235Z",
          "iopub.execute_input": "2024-07-03T15:08:07.393701Z",
          "iopub.status.idle": "2024-07-03T15:08:07.399474Z",
          "shell.execute_reply.started": "2024-07-03T15:08:07.39364Z",
          "shell.execute_reply": "2024-07-03T15:08:07.398144Z"
        },
        "trusted": true,
        "id": "lhOPu2QkYfcy"
      },
      "execution_count": null,
      "outputs": []
    },
    {
      "cell_type": "code",
      "source": [
        "# API request - fetch the dataset\n",
        "\n",
        "dataset = client.get_dataset(dataset_ref)"
      ],
      "metadata": {
        "execution": {
          "iopub.status.busy": "2024-07-03T15:09:50.652609Z",
          "iopub.execute_input": "2024-07-03T15:09:50.65312Z",
          "iopub.status.idle": "2024-07-03T15:09:51.29159Z",
          "shell.execute_reply.started": "2024-07-03T15:09:50.653082Z",
          "shell.execute_reply": "2024-07-03T15:09:51.290287Z"
        },
        "trusted": true,
        "id": "4NhtqtnnYfcz"
      },
      "execution_count": null,
      "outputs": []
    },
    {
      "cell_type": "code",
      "source": [
        "tables = list(client.list_tables(dataset_ref))"
      ],
      "metadata": {
        "execution": {
          "iopub.status.busy": "2024-07-03T15:10:27.832114Z",
          "iopub.execute_input": "2024-07-03T15:10:27.832541Z",
          "iopub.status.idle": "2024-07-03T15:10:28.531405Z",
          "shell.execute_reply.started": "2024-07-03T15:10:27.832508Z",
          "shell.execute_reply": "2024-07-03T15:10:28.530252Z"
        },
        "trusted": true,
        "id": "9F2_SBLHYfc1"
      },
      "execution_count": null,
      "outputs": []
    },
    {
      "cell_type": "code",
      "source": [],
      "metadata": {
        "id": "-X0BvJBdYfc2"
      },
      "execution_count": null,
      "outputs": []
    },
    {
      "cell_type": "code",
      "source": [
        "num_tables = len(tables)  # Store the answer as num_tables and then run this cell\n",
        "\n",
        "# Check your answer\n",
        "q_1.check()"
      ],
      "metadata": {
        "execution": {
          "iopub.status.busy": "2024-07-03T15:10:37.112507Z",
          "iopub.execute_input": "2024-07-03T15:10:37.112946Z",
          "iopub.status.idle": "2024-07-03T15:10:37.124958Z",
          "shell.execute_reply.started": "2024-07-03T15:10:37.112915Z",
          "shell.execute_reply": "2024-07-03T15:10:37.123646Z"
        },
        "trusted": true,
        "id": "PUqoVEzMYfc2"
      },
      "execution_count": null,
      "outputs": []
    },
    {
      "cell_type": "markdown",
      "source": [
        "For a hint or the solution, uncomment the appropriate line below."
      ],
      "metadata": {
        "id": "U8agl8T5Yfc2"
      }
    },
    {
      "cell_type": "code",
      "source": [
        "#q_1.hint()\n",
        "#q_1.solution()"
      ],
      "metadata": {
        "id": "3ZCy-u6zYfc3"
      },
      "execution_count": null,
      "outputs": []
    },
    {
      "cell_type": "markdown",
      "source": [
        "### 2) Explore the table schema\n",
        "\n",
        "How many columns in the `crime` table have `TIMESTAMP` data?"
      ],
      "metadata": {
        "id": "4Xc_FSZGYfc4"
      }
    },
    {
      "cell_type": "code",
      "source": [
        "# Write the code to figure out the answer"
      ],
      "metadata": {
        "id": "GywZ_mCLYfc4"
      },
      "execution_count": null,
      "outputs": []
    },
    {
      "cell_type": "code",
      "source": [
        "# Create client Object:\n",
        "\n",
        "client = bigquery.Client()\n",
        "\n",
        "# Construct a reference to the \"chicago_crime\" dataset and the crime table\n",
        "table_ref = client.dataset(\"chicago_crime\", project= \"bigquery-public-data\").table(\"crime\")"
      ],
      "metadata": {
        "execution": {
          "iopub.status.busy": "2024-07-03T15:15:03.150915Z",
          "iopub.execute_input": "2024-07-03T15:15:03.151424Z",
          "iopub.status.idle": "2024-07-03T15:15:03.159941Z",
          "shell.execute_reply.started": "2024-07-03T15:15:03.151388Z",
          "shell.execute_reply": "2024-07-03T15:15:03.158592Z"
        },
        "trusted": true,
        "id": "rM1wZFCyYfc5"
      },
      "execution_count": null,
      "outputs": []
    },
    {
      "cell_type": "code",
      "source": [
        "# API request - fetch the table\n",
        "table = client.get_table(table_ref)"
      ],
      "metadata": {
        "execution": {
          "iopub.status.busy": "2024-07-03T15:15:52.761209Z",
          "iopub.execute_input": "2024-07-03T15:15:52.761649Z",
          "iopub.status.idle": "2024-07-03T15:15:53.487931Z",
          "shell.execute_reply.started": "2024-07-03T15:15:52.761617Z",
          "shell.execute_reply": "2024-07-03T15:15:53.485761Z"
        },
        "trusted": true,
        "id": "4k-pd4ZWYfc6"
      },
      "execution_count": null,
      "outputs": []
    },
    {
      "cell_type": "code",
      "source": [
        "timestamp_columns = [schema_field.name for schema_field in table.schema if schema_field.field_type == 'TIMESTAMP']"
      ],
      "metadata": {
        "execution": {
          "iopub.status.busy": "2024-07-03T15:17:43.366608Z",
          "iopub.execute_input": "2024-07-03T15:17:43.367015Z",
          "iopub.status.idle": "2024-07-03T15:17:43.373499Z",
          "shell.execute_reply.started": "2024-07-03T15:17:43.366986Z",
          "shell.execute_reply": "2024-07-03T15:17:43.372132Z"
        },
        "trusted": true,
        "id": "9di6q0T6Yfc8"
      },
      "execution_count": null,
      "outputs": []
    },
    {
      "cell_type": "code",
      "source": [
        "timestamp_column_count = len(timestamp_columns)"
      ],
      "metadata": {
        "execution": {
          "iopub.status.busy": "2024-07-03T15:18:18.225447Z",
          "iopub.execute_input": "2024-07-03T15:18:18.225849Z",
          "iopub.status.idle": "2024-07-03T15:18:18.231983Z",
          "shell.execute_reply.started": "2024-07-03T15:18:18.22582Z",
          "shell.execute_reply": "2024-07-03T15:18:18.230743Z"
        },
        "trusted": true,
        "id": "wO-Bs3AoYfc8"
      },
      "execution_count": null,
      "outputs": []
    },
    {
      "cell_type": "code",
      "source": [
        "num_timestamp_fields = sum(1 for field in table.schema if field.field_type == 'TIMESTAMP' )# Put your answer here\n",
        "\n",
        "# Check your answer\n",
        "q_2.check()"
      ],
      "metadata": {
        "execution": {
          "iopub.status.busy": "2024-07-03T15:20:38.515882Z",
          "iopub.execute_input": "2024-07-03T15:20:38.516662Z",
          "iopub.status.idle": "2024-07-03T15:20:38.527229Z",
          "shell.execute_reply.started": "2024-07-03T15:20:38.516622Z",
          "shell.execute_reply": "2024-07-03T15:20:38.526038Z"
        },
        "trusted": true,
        "id": "rLb_mYp1Yfc8"
      },
      "execution_count": null,
      "outputs": []
    },
    {
      "cell_type": "markdown",
      "source": [
        "For a hint or the solution, uncomment the appropriate line below."
      ],
      "metadata": {
        "id": "O3l-b5liYfc9"
      }
    },
    {
      "cell_type": "code",
      "source": [
        "#q_2.hint()\n",
        "#q_2.solution()"
      ],
      "metadata": {
        "id": "XlS68-dhYfc_"
      },
      "execution_count": null,
      "outputs": []
    },
    {
      "cell_type": "markdown",
      "source": [
        "### 3) Create a crime map\n",
        "\n",
        "If you wanted to create a map with a dot at the location of each crime, what are the names of the two fields you likely need to pull out of the `crime` table to plot the crimes on a map?"
      ],
      "metadata": {
        "id": "LHVj7pi1Yfc_"
      }
    },
    {
      "cell_type": "code",
      "source": [
        "# Write the code here to explore the data so you can find the answer"
      ],
      "metadata": {
        "id": "3u-y0Q89Yfc_"
      },
      "execution_count": null,
      "outputs": []
    },
    {
      "cell_type": "code",
      "source": [
        "from google.cloud import bigquery\n",
        "\n",
        "# Create a \"client\" object\n",
        "\n",
        "client = bigquery.Client()"
      ],
      "metadata": {
        "execution": {
          "iopub.status.busy": "2024-07-03T15:29:25.605108Z",
          "iopub.execute_input": "2024-07-03T15:29:25.605538Z",
          "iopub.status.idle": "2024-07-03T15:29:25.612139Z",
          "shell.execute_reply.started": "2024-07-03T15:29:25.605506Z",
          "shell.execute_reply": "2024-07-03T15:29:25.610658Z"
        },
        "trusted": true,
        "id": "gW9r3G5eYfc_"
      },
      "execution_count": null,
      "outputs": []
    },
    {
      "cell_type": "code",
      "source": [
        "# Construct a reference to the chicago_crime dataset and crime table\n",
        "\n",
        "table_ref = client.dataset(\"chicago_crime\", project = \"bigquery-public-data\").table(\"crime\")"
      ],
      "metadata": {
        "execution": {
          "iopub.status.busy": "2024-07-03T15:31:58.152744Z",
          "iopub.execute_input": "2024-07-03T15:31:58.153234Z",
          "iopub.status.idle": "2024-07-03T15:31:58.16101Z",
          "shell.execute_reply.started": "2024-07-03T15:31:58.153197Z",
          "shell.execute_reply": "2024-07-03T15:31:58.159441Z"
        },
        "trusted": true,
        "id": "dUY6ocRzYfdA"
      },
      "execution_count": null,
      "outputs": []
    },
    {
      "cell_type": "code",
      "source": [
        "# API Request - fetch the table schema\n",
        "\n",
        "table = client.get_table(table_ref)"
      ],
      "metadata": {
        "execution": {
          "iopub.status.busy": "2024-07-03T15:32:56.384918Z",
          "iopub.execute_input": "2024-07-03T15:32:56.385312Z",
          "iopub.status.idle": "2024-07-03T15:32:57.057581Z",
          "shell.execute_reply.started": "2024-07-03T15:32:56.385282Z",
          "shell.execute_reply": "2024-07-03T15:32:57.056537Z"
        },
        "trusted": true,
        "id": "_L98knDJYfdA"
      },
      "execution_count": null,
      "outputs": []
    },
    {
      "cell_type": "code",
      "source": [
        "# Identify the fileds for latitude and logitude\n",
        "\n",
        "latitude_field = None\n",
        "logitude_field = None\n",
        "\n",
        "for field in table.schema:\n",
        "    if field.name.lower()=='latitude':\n",
        "        latitude_field = field.name\n",
        "    elif field.name.lower() == 'longitude':\n",
        "        longitude_field = field.name"
      ],
      "metadata": {
        "execution": {
          "iopub.status.busy": "2024-07-03T15:35:27.682764Z",
          "iopub.execute_input": "2024-07-03T15:35:27.683206Z",
          "iopub.status.idle": "2024-07-03T15:35:27.690566Z",
          "shell.execute_reply.started": "2024-07-03T15:35:27.683173Z",
          "shell.execute_reply": "2024-07-03T15:35:27.68898Z"
        },
        "trusted": true,
        "id": "RYOM9k6jYfdB"
      },
      "execution_count": null,
      "outputs": []
    },
    {
      "cell_type": "code",
      "source": [
        "fields_for_plotting = [latitude_field, longitude_field] # Put your answers here\n",
        "\n",
        "# Check your answer\n",
        "q_3.check()"
      ],
      "metadata": {
        "execution": {
          "iopub.status.busy": "2024-07-03T15:38:26.566331Z",
          "iopub.execute_input": "2024-07-03T15:38:26.566729Z",
          "iopub.status.idle": "2024-07-03T15:38:26.577861Z",
          "shell.execute_reply.started": "2024-07-03T15:38:26.566698Z",
          "shell.execute_reply": "2024-07-03T15:38:26.576311Z"
        },
        "trusted": true,
        "id": "8afmyTAOYfdB"
      },
      "execution_count": null,
      "outputs": []
    },
    {
      "cell_type": "markdown",
      "source": [
        "For a hint or the solution, uncomment the appropriate line below."
      ],
      "metadata": {
        "id": "LfcsSbtaYfdC"
      }
    },
    {
      "cell_type": "code",
      "source": [
        "#q_3.hint()\n",
        "#q_3.solution()"
      ],
      "metadata": {
        "id": "wBu3w-CnYfdC"
      },
      "execution_count": null,
      "outputs": []
    },
    {
      "cell_type": "markdown",
      "source": [
        "Thinking about the question above, there are a few columns that appear to have geographic data. Look at a few values (with the `list_rows()` command) to see if you can determine their relationship.  Two columns will still be hard to interpret. But it should be obvious how the `location` column relates to `latitude` and `longitude`."
      ],
      "metadata": {
        "id": "cjCL9xOzYfdD"
      }
    },
    {
      "cell_type": "code",
      "source": [
        "# Scratch space for your code"
      ],
      "metadata": {
        "id": "JvWUeXHWYfdD"
      },
      "execution_count": null,
      "outputs": []
    },
    {
      "cell_type": "markdown",
      "source": [
        "# Keep going\n",
        "\n",
        "You've looked at the schema, but you haven't yet done anything exciting with the data itself. Things get more interesting when you get to the data, so keep going to **[write your first SQL query](https://www.kaggle.com/dansbecker/select-from-where).**"
      ],
      "metadata": {
        "id": "fGfeN9nQYfdE"
      }
    },
    {
      "cell_type": "markdown",
      "source": [
        "---\n",
        "\n",
        "\n",
        "\n",
        "\n",
        "*Have questions or comments? Visit the [course discussion forum](https://www.kaggle.com/learn/intro-to-sql/discussion) to chat with other learners.*"
      ],
      "metadata": {
        "id": "p78rUxgXYfdE"
      }
    }
  ]
}